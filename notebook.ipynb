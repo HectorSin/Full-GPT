{
 "cells": [
  {
   "cell_type": "code",
   "execution_count": 13,
   "metadata": {},
   "outputs": [
    {
     "data": {
      "text/plain": [
       "'The capital of France is Paris.'"
      ]
     },
     "execution_count": 13,
     "metadata": {},
     "output_type": "execute_result"
    }
   ],
   "source": [
    "from langchain.chat_models import ChatOpenAI\n",
    "from langchain.prompts import PromptTemplate, ChatPromptTemplate\n",
    "\n",
    "chat = ChatOpenAI(\n",
    "    temperature=0.1,\n",
    ")\n",
    "\n",
    "template = PromptTemplate.from_template(\"What is the capital of {country}?\")\n",
    "\n",
    "prompt = template.format(country=\"France\")\n",
    "\n",
    "chat.predict(prompt)"
   ]
  },
  {
   "cell_type": "code",
   "execution_count": 19,
   "metadata": {},
   "outputs": [
    {
     "data": {
      "text/plain": [
       "AIMessage(content='한국의 수도는 서울입니다. 제 이름은 잼톨입니다.')"
      ]
     },
     "execution_count": 19,
     "metadata": {},
     "output_type": "execute_result"
    }
   ],
   "source": [
    "template = ChatPromptTemplate.from_messages([\n",
    "    (\"system\", \"You are a geography expert. And you only reply in {language}\"),\n",
    "    (\"ai\", \"Hello, my name is {name}\"),\n",
    "    (\"human\", \"what is the capital of {country}? And what is your name?\")\n",
    "])\n",
    "\n",
    "prompt = template.format_messages(language=\"korean\", name=\"Jamtol\", country=\"Korea\")\n",
    "\n",
    "chat.predict_messages(prompt)"
   ]
  },
  {
   "cell_type": "code",
   "execution_count": 23,
   "metadata": {},
   "outputs": [
    {
     "data": {
      "text/plain": [
       "['Hello', 'my name', 'is Jamtol']"
      ]
     },
     "execution_count": 23,
     "metadata": {},
     "output_type": "execute_result"
    }
   ],
   "source": [
    "from langchain.schema import BaseOutputParser\n",
    "\n",
    "class CommaOutputParser(BaseOutputParser):\n",
    "    def parse(self, text):\n",
    "        items = text.strip().split(\",\")\n",
    "        return list(map(str.strip, items))\n",
    "    \n",
    "\n",
    "p = CommaOutputParser()\n",
    "\n",
    "p.parse(\"Hello, my name, is Jamtol\")"
   ]
  },
  {
   "cell_type": "code",
   "execution_count": 30,
   "metadata": {},
   "outputs": [],
   "source": [
    "template = ChatPromptTemplate.from_messages([\n",
    "    (\"system\", \"You are a list generating machine. Everything you are asked will be answered with a comma separated list of max {max_items}. Do NOT reply with anything else.\"),\n",
    "    (\"human\", \"{question}\")\n",
    "])"
   ]
  },
  {
   "cell_type": "code",
   "execution_count": 32,
   "metadata": {},
   "outputs": [
    {
     "data": {
      "text/plain": [
       "['Pikachu', 'Charizard', 'Bulbasaur', 'Squirtle', 'Jigglypuff']"
      ]
     },
     "execution_count": 32,
     "metadata": {},
     "output_type": "execute_result"
    }
   ],
   "source": [
    "chain = template | chat | CommaOutputParser()\n",
    "chain.invoke({\"question\": \"what are the pokemons?\", \"max_items\": 5})"
   ]
  },
  {
   "cell_type": "code",
   "execution_count": 33,
   "metadata": {},
   "outputs": [],
   "source": [
    "from langchain.chat_models import ChatOpenAI\n",
    "from langchain.prompts import ChatPromptTemplate\n",
    "\n",
    "chat = ChatOpenAI(temperature=0.1)\n",
    "\n",
    "chef_template = ChatPromptTemplate.from_messages([\n",
    "    (\"system\", \"You are a chef. You create a recipe for a dish.\"),\n",
    "    (\"human\", \"{dish}\")\n",
    "])\n",
    "\n",
    "chef_chain = chef_template | chat"
   ]
  },
  {
   "cell_type": "code",
   "execution_count": 38,
   "metadata": {},
   "outputs": [
    {
     "name": "stdout",
     "output_type": "stream",
     "text": [
      "Alternative Ingredients for Vegetarian Spaghetti Carbonara:\n",
      "\n",
      "- Instead of pancetta, you can use diced vegetarian bacon or tempeh bacon for a smoky flavor.\n",
      "- For a vegan version, you can use plant-based bacon or marinated and baked tofu cubes.\n",
      "- Instead of eggs, you can use a vegan egg replacer or silken tofu blended with nutritional yeast for a creamy texture.\n",
      "- Use a vegan cheese alternative like nutritional yeast or vegan Parmesan for the grated cheese.\n",
      "- You can add sautéed mushrooms or roasted cherry tomatoes for extra flavor and texture.\n",
      "- Consider using whole wheat or gluten-free spaghetti for a healthier option.\n",
      "\n",
      "Follow the same cooking instructions provided in the original recipe, but substitute these alternative ingredients to create a delicious vegetarian or vegan version of Spaghetti Carbonara. Enjoy your meat-free twist on this classic dish!"
     ]
    },
    {
     "data": {
      "text/plain": [
       "AIMessageChunk(content='Alternative Ingredients for Vegetarian Spaghetti Carbonara:\\n\\n- Instead of pancetta, you can use diced vegetarian bacon or tempeh bacon for a smoky flavor.\\n- For a vegan version, you can use plant-based bacon or marinated and baked tofu cubes.\\n- Instead of eggs, you can use a vegan egg replacer or silken tofu blended with nutritional yeast for a creamy texture.\\n- Use a vegan cheese alternative like nutritional yeast or vegan Parmesan for the grated cheese.\\n- You can add sautéed mushrooms or roasted cherry tomatoes for extra flavor and texture.\\n- Consider using whole wheat or gluten-free spaghetti for a healthier option.\\n\\nFollow the same cooking instructions provided in the original recipe, but substitute these alternative ingredients to create a delicious vegetarian or vegan version of Spaghetti Carbonara. Enjoy your meat-free twist on this classic dish!')"
      ]
     },
     "execution_count": 38,
     "metadata": {},
     "output_type": "execute_result"
    }
   ],
   "source": [
    "from langchain.chat_models import ChatOpenAI\n",
    "from langchain.prompts import ChatPromptTemplate\n",
    "from langchain.callbacks import StreamingStdOutCallbackHandler\n",
    "\n",
    "chat = ChatOpenAI(temperature=0.1, streaming=True, callbacks=[StreamingStdOutCallbackHandler()])\n",
    "\n",
    "veg_chef_prompt = ChatPromptTemplate.from_messages([\n",
    "    (\"system\", \"You are a vegetarian chef. You find alternative ingredients for a dish.\"),\n",
    "    (\"human\", \"{recipe}\")\n",
    "])\n",
    "\n",
    "veg_chain = veg_chef_prompt | chat\n",
    "\n",
    "final_chain = {\"recipe\": chef_chain} | veg_chain\n",
    "\n",
    "final_chain.invoke({\"dish\": \"Spaghetti Carbonara\"})"
   ]
  },
  {
   "cell_type": "code",
   "execution_count": null,
   "metadata": {},
   "outputs": [],
   "source": []
  }
 ],
 "metadata": {
  "kernelspec": {
   "display_name": "full-gpt",
   "language": "python",
   "name": "python3"
  },
  "language_info": {
   "codemirror_mode": {
    "name": "ipython",
    "version": 3
   },
   "file_extension": ".py",
   "mimetype": "text/x-python",
   "name": "python",
   "nbconvert_exporter": "python",
   "pygments_lexer": "ipython3",
   "version": "3.11.13"
  }
 },
 "nbformat": 4,
 "nbformat_minor": 2
}
