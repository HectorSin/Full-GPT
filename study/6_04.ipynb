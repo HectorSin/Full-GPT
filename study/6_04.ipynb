{
 "cells": [
  {
   "cell_type": "code",
   "execution_count": 1,
   "id": "68fa9916",
   "metadata": {},
   "outputs": [],
   "source": [
    "import sys\n",
    "import os\n",
    "sys.path.append('..')\n",
    "from get_env import get_env\n",
    "\n",
    "api_key = get_env()"
   ]
  },
  {
   "cell_type": "code",
   "execution_count": 2,
   "id": "f7fa05ce",
   "metadata": {},
   "outputs": [],
   "source": [
    "from langchain.chat_models import ChatOpenAI\n",
    "from langchain.document_loaders import UnstructuredFileLoader\n",
    "from langchain.text_splitter import CharacterTextSplitter\n",
    "from langchain.embeddings import OpenAIEmbeddings, CacheBackedEmbeddings\n",
    "from langchain.vectorstores import Chroma\n",
    "from langchain.storage import LocalFileStore\n",
    "\n",
    "cache_dir = LocalFileStore(\"./.cache/\")\n",
    "\n",
    "\n",
    "splitter = CharacterTextSplitter.from_tiktoken_encoder(\n",
    "    separator=\"\\n\",\n",
    "    chunk_size=600,\n",
    "    chunk_overlap=100,\n",
    ")\n",
    "loader = UnstructuredFileLoader(\"../files/chapter_three.txt\")\n",
    "\n",
    "docs = loader.load_and_split(text_splitter=splitter)\n",
    "\n",
    "embeddings = OpenAIEmbeddings()\n",
    "\n",
    "cached_embeddings = CacheBackedEmbeddings.from_bytes_store(embeddings, cache_dir)\n",
    "\n",
    "vectorstore = Chroma.from_documents(docs, cached_embeddings)"
   ]
  },
  {
   "cell_type": "code",
   "execution_count": 3,
   "id": "c3c2f0b1",
   "metadata": {},
   "outputs": [
    {
     "data": {
      "text/plain": [
       "[Document(page_content='The voice from the telescreen was still pouring forth its tale of prisoners and booty and slaughter, but the shouting outside had died down a little. The waiters were turning back to their work. One of them approached with the gin bottle. Winston, sitting in a blissful dream, paid no attention as his glass was filled up. He was not running or cheering any longer. He was back in the Ministry of Love, with everything forgiven, his soul white as snow. He was in the public dock, confessing everything, implicating everybody. He was walking down the white-tiled corridor, with the feeling of walking in sunlight, and an armed guard at his back. The long-hoped-for bullet was entering his brain.\\nHe gazed up at the enormous face. Forty years it had taken him to learn what kind of smile was hidden beneath the dark moustache. O cruel, needless misunderstanding! O stubborn, self-willed exile from the loving breast! Two gin-scented tears trickled down the sides of his nose. But it was all right, everything was all right, the struggle was finished. He had won the victory over himself. He loved Big Brother.\\nTHE END', metadata={'source': '../files/chapter_three.txt'}),\n",
       " Document(page_content='Winston sat in his usual corner, gazing into an empty glass. Now and again he glanced up at a vast face which eyed him from the opposite wall. BIG BROTHER IS WATCHING YOU, the caption said. Unbidden, a waiter came and filled his glass up with Victory Gin, shaking into it a few drops from another bottle with a quill through the cork. It was saccharine flavoured with cloves, the speciality of the cafe.\\nWinston was listening to the telescreen. At present only music was coming out of it, but there was a possibility that at any moment there might be a special bulletin from the Ministry of Peace. The news from the African front was disquieting in the extreme. On and off he had been worrying about it all day. A Eurasian army (Oceania was at war with Eurasia: Oceania had always been at war with Eurasia) was moving southward at terrifying speed. The mid-day bulletin had not mentioned any definite area, but it was probable that already the mouth of the Congo was a battlefield. Brazzaville and Leopoldville were in danger. One did not have to look at the map to see what it meant. It was not merely a question of losing Central Africa: for the first time in the whole war, the territory of Oceania itself was menaced.\\nA violent emotion, not fear exactly but a sort of undifferentiated excitement, flared up in him, then faded again. He stopped thinking about the war. In these days he could never fix his mind on any one subject for more than a few moments at a time. He picked up his glass and drained it at a gulp. As always, the gin made him shudder and even retch slightly. The stuff was horrible. The cloves and saccharine, themselves disgusting enough in their sickly way, could not disguise the flat oily smell; and what was worst of all was that the smell of gin, which dwelt with him night and day, was inextricably mixed up in his mind with the smell of those----', metadata={'source': '../files/chapter_three.txt'}),\n",
       " Document(page_content=\"He never named them, even in his thoughts, and so far as it was possible he never visualized them. They were something that he was half-aware of, hovering close to his face, a smell that clung to his nostrils. As the gin rose in him he belched through purple lips. He had grown fatter since they released him, and had regained his old colour--indeed, more than regained it. His features had thickened, the skin on nose and cheekbones was coarsely red, even the bald scalp was too deep a pink. A waiter, again unbidden, brought the chessboard and the current issue of 'The Times', with the page turned down at the chess problem. Then, seeing that Winston's glass was empty, he brought the gin bottle and filled it. There was no need to give orders. They knew his habits. The chessboard was always waiting for him, his corner table was always reserved; even when the place was full he had it to himself, since nobody cared to be seen sitting too close to him. He never even bothered to count his drinks. At irregular intervals they presented him with a dirty slip of paper which they said was the bill, but he had the impression that they always undercharged him. It would have made no difference if it had been the other way about. He had always plenty of money nowadays. He even had a job, a sinecure, more highly-paid than his old job had been.\\nThe music from the telescreen stopped and a voice took over. Winston raised his head to listen. No bulletins from the front, however. It was merely a brief announcement from the Ministry of Plenty. In the preceding quarter, it appeared, the Tenth Three-Year Plan's quota for bootlaces had been overfulfilled by 98 per cent.\\nHe examined the chess problem and set out the pieces. It was a tricky ending, involving a couple of knights. 'White to play and mate in two moves.' Winston looked up at the portrait of Big Brother. White always mates, he thought with a sort of cloudy mysticism. Always, without exception, it is so arranged. In no chess problem since the beginning of the world has black ever won. Did it not symbolize the eternal, unvarying triumph of Good over Evil? The huge face gazed back at him, full of calm power. White always mates.\\nThe voice from the telescreen paused and added in a different and much graver tone: 'You are warned to stand by for an important announcement at fifteen-thirty. Fifteen-thirty! This is news of the highest importance. Take care not to miss it. Fifteen-thirty!' The tinkling music struck up again.\", metadata={'source': '../files/chapter_three.txt'}),\n",
       " Document(page_content=\"'It was a common punishment in Imperial China,' said O'Brien as didactically as ever.\\nThe mask was closing on his face. The wire brushed his cheek. And then--no, it was not relief, only hope, a tiny fragment of hope. Too late, perhaps too late. But he had suddenly understood that in the whole world there was just ONE person to whom he could transfer his punishment--ONE body that he could thrust between himself and the rats. And he was shouting frantically, over and over.\\n'Do it to Julia! Do it to Julia! Not me! Julia! I don't care what you do to her. Tear her face off, strip her to the bones. Not me! Julia! Not me!'\\nHe was falling backwards, into enormous depths, away from the rats. He was still strapped in the chair, but he had fallen through the floor, through the walls of the building, through the earth, through the oceans, through the atmosphere, into outer space, into the gulfs between the stars--always away, away, away from the rats. He was light years distant, but O'Brien was still standing at his side. There was still the cold touch of wire against his cheek. But through the darkness that enveloped him he heard another metallic click, and knew that the cage door had clicked shut and not open.\\nChapter 6\\nThe Chestnut Tree was almost empty. A ray of sunlight slanting through a window fell on dusty table-tops. It was the lonely hour of fifteen. A tinny music trickled from the telescreens.\\nWinston sat in his usual corner, gazing into an empty glass. Now and again he glanced up at a vast face which eyed him from the opposite wall. BIG BROTHER IS WATCHING YOU, the caption said. Unbidden, a waiter came and filled his glass up with Victory Gin, shaking into it a few drops from another bottle with a quill through the cork. It was saccharine flavoured with cloves, the speciality of the cafe.\", metadata={'source': '../files/chapter_three.txt'})]"
      ]
     },
     "execution_count": 3,
     "metadata": {},
     "output_type": "execute_result"
    }
   ],
   "source": [
    "results = vectorstore.similarity_search(\"where does winston live\")\n",
    "\n",
    "results"
   ]
  }
 ],
 "metadata": {
  "kernelspec": {
   "display_name": "GPT",
   "language": "python",
   "name": "python3"
  },
  "language_info": {
   "codemirror_mode": {
    "name": "ipython",
    "version": 3
   },
   "file_extension": ".py",
   "mimetype": "text/x-python",
   "name": "python",
   "nbconvert_exporter": "python",
   "pygments_lexer": "ipython3",
   "version": "3.9.23"
  }
 },
 "nbformat": 4,
 "nbformat_minor": 5
}
