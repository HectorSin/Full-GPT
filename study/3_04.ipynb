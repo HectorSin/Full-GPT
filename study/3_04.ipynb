{
 "cells": [
  {
   "cell_type": "code",
   "execution_count": 1,
   "id": "c70ca471",
   "metadata": {},
   "outputs": [],
   "source": [
    "import sys\n",
    "import os\n",
    "sys.path.append('..')\n",
    "from get_env import get_env\n",
    "\n",
    "api_key = get_env()"
   ]
  },
  {
   "cell_type": "code",
   "execution_count": 2,
   "id": "99f57298",
   "metadata": {},
   "outputs": [],
   "source": [
    "from langchain.chat_models import ChatOpenAI\n",
    "from langchain.prompts import ChatPromptTemplate\n",
    "from langchain.callbacks import StreamingStdOutCallbackHandler\n",
    "\n",
    "chat = ChatOpenAI(\n",
    "    temperature=0.1,\n",
    "    streaming=True,\n",
    "    callbacks=[\n",
    "        StreamingStdOutCallbackHandler(),\n",
    "    ],\n",
    ")\n",
    "\n",
    "chef_prompt = ChatPromptTemplate.from_messages(\n",
    "    [\n",
    "        (\n",
    "            \"system\",\n",
    "            \"\",\n",
    "        ),\n",
    "        (\"human\", \"I want to cook {cuisine} food.\"),\n",
    "    ]\n",
    ")\n",
    "\n",
    "chef_chain = chef_prompt | chat"
   ]
  },
  {
   "cell_type": "code",
   "execution_count": 3,
   "id": "8230f3a3",
   "metadata": {},
   "outputs": [
    {
     "name": "stdout",
     "output_type": "stream",
     "text": [
      "That's great! Indian cuisine is known for its rich flavors and diverse range of dishes. Here are a few popular Indian recipes you can try:\n",
      "\n",
      "1. Butter Chicken: A creamy and flavorful chicken dish cooked in a rich tomato and butter sauce.\n",
      "\n",
      "2. Chana Masala: A spicy and tangy chickpea curry made with a blend of aromatic spices.\n",
      "\n",
      "3. Palak Paneer: A creamy spinach curry with cubes of paneer (Indian cottage cheese).\n",
      "\n",
      "4. Biryani: A fragrant rice dish cooked with meat or vegetables and a blend of spices.\n",
      "\n",
      "5. Aloo Gobi: A simple and delicious dish made with potatoes and cauliflower cooked with spices.\n",
      "\n",
      "6. Dal Tadka: A comforting lentil curry tempered with aromatic spices.\n",
      "\n",
      "These are just a few examples, but there are countless other Indian dishes you can explore. Let me know if you need any specific recipes or cooking tips!These are all classic Indian dishes that can easily be made vegetarian with a few ingredient swaps. Here are some alternatives for the non-vegetarian ingredients:\n",
      "\n",
      "1. Butter Chicken: Substitute the chicken with paneer (Indian cottage cheese) or tofu. Marinate the paneer or tofu in a mixture of yogurt, lemon juice, and spices before cooking it in the buttery tomato sauce.\n",
      "\n",
      "2. Chana Masala: This dish is already vegetarian! Just make sure to use vegetable oil instead of ghee for a vegan version.\n",
      "\n",
      "3. Palak Paneer: Use tofu instead of paneer for a vegan option. You can also add some cashew cream or coconut milk to make the spinach curry extra creamy.\n",
      "\n",
      "4. Biryani: Replace the meat with vegetables like potatoes, carrots, peas, and cauliflower. You can also add some fried tofu or paneer for protein.\n",
      "\n",
      "5. Aloo Gobi: This dish is naturally vegetarian! Just follow the recipe and enjoy the flavorful combination of potatoes and cauliflower.\n",
      "\n",
      "6. Dal Tadka: Use vegetable broth instead of chicken broth for a vegetarian version. You can also add some coconut milk or cashew cream for extra richness.\n",
      "\n",
      "These ingredient swaps will help you create delicious vegetarian versions of these traditional Indian dishes. Enjoy exploring the world of vegetarian Indian cuisine!"
     ]
    },
    {
     "data": {
      "text/plain": [
       "AIMessageChunk(content='These are all classic Indian dishes that can easily be made vegetarian with a few ingredient swaps. Here are some alternatives for the non-vegetarian ingredients:\\n\\n1. Butter Chicken: Substitute the chicken with paneer (Indian cottage cheese) or tofu. Marinate the paneer or tofu in a mixture of yogurt, lemon juice, and spices before cooking it in the buttery tomato sauce.\\n\\n2. Chana Masala: This dish is already vegetarian! Just make sure to use vegetable oil instead of ghee for a vegan version.\\n\\n3. Palak Paneer: Use tofu instead of paneer for a vegan option. You can also add some cashew cream or coconut milk to make the spinach curry extra creamy.\\n\\n4. Biryani: Replace the meat with vegetables like potatoes, carrots, peas, and cauliflower. You can also add some fried tofu or paneer for protein.\\n\\n5. Aloo Gobi: This dish is naturally vegetarian! Just follow the recipe and enjoy the flavorful combination of potatoes and cauliflower.\\n\\n6. Dal Tadka: Use vegetable broth instead of chicken broth for a vegetarian version. You can also add some coconut milk or cashew cream for extra richness.\\n\\nThese ingredient swaps will help you create delicious vegetarian versions of these traditional Indian dishes. Enjoy exploring the world of vegetarian Indian cuisine!')"
      ]
     },
     "execution_count": 3,
     "metadata": {},
     "output_type": "execute_result"
    }
   ],
   "source": [
    "veg_chef_prompt = ChatPromptTemplate.from_messages(\n",
    "    [\n",
    "        (\n",
    "            \"system\",\n",
    "            \"You are a vegetarian chef specialized on making traditional recipies vegetarian. You find alternative ingredients and explain their preparation. You don't radically modify the recipe. If there is no alternative for a food just say you don't know how to replace it.\",\n",
    "        ),\n",
    "        (\"human\", \"{recipe}\"),\n",
    "    ]\n",
    ")\n",
    "\n",
    "\n",
    "veg_chain = veg_chef_prompt | chat\n",
    "\n",
    "\n",
    "final_chain = {\"recipe\": chef_chain} | veg_chain\n",
    "\n",
    "final_chain.invoke({\"cuisine\": \"indian\"})"
   ]
  }
 ],
 "metadata": {
  "kernelspec": {
   "display_name": "GPT",
   "language": "python",
   "name": "python3"
  },
  "language_info": {
   "codemirror_mode": {
    "name": "ipython",
    "version": 3
   },
   "file_extension": ".py",
   "mimetype": "text/x-python",
   "name": "python",
   "nbconvert_exporter": "python",
   "pygments_lexer": "ipython3",
   "version": "3.9.23"
  }
 },
 "nbformat": 4,
 "nbformat_minor": 5
}
