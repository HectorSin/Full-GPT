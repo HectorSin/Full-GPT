{
 "cells": [
  {
   "cell_type": "code",
   "execution_count": null,
   "id": "fc879e69",
   "metadata": {},
   "outputs": [],
   "source": [
    "import sys\n",
    "import os\n",
    "sys.path.append('..')\n",
    "from get_env import get_env\n",
    "\n",
    "api_key = get_env()"
   ]
  },
  {
   "cell_type": "code",
   "execution_count": null,
   "id": "f6c5e0d2",
   "metadata": {},
   "outputs": [],
   "source": [
    "from langchain.memory import ConversationBufferWindowMemory\n",
    "\n",
    "memory = ConversationBufferWindowMemory(\n",
    "    return_messages=True,\n",
    "    k=4,\n",
    ")"
   ]
  }
 ],
 "metadata": {
  "language_info": {
   "name": "python"
  }
 },
 "nbformat": 4,
 "nbformat_minor": 5
}
