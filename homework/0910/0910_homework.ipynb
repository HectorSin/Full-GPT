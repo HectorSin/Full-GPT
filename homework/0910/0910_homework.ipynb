{
 "cells": [
  {
   "cell_type": "markdown",
   "id": "51464bc8",
   "metadata": {},
   "source": [
    "앞서 배운 메모리 클래스 중 하나를 사용하는 메모리로 LCEL 체인을 구현합니다.\n",
    "\n",
    "\n",
    "이 체인은 영화 제목을 가져와 영화를 나타내는 세 개의 이모티콘으로 응답해야 합니다. (예: \"탑건\" -> \"🛩️👨‍✈️🔥\". \"대부\" -> \"👨‍👨‍👦🔫🍝\").\n",
    "\n",
    "\n",
    "항상 세 개의 이모티콘으로 답장하도록 FewShotPromptTemplate 또는 FewShotChatMessagePromptTemplate을 사용하여 체인에 예시를 제공하세요.\n",
    "\n",
    "\n",
    "메모리가 작동하는지 확인하려면 체인에 두 개의 영화에 대해 질문한 다음 다른 셀에서 체인에 먼저 질문한 영화가 무엇인지 알려달라고 요청하세요."
   ]
  },
  {
   "cell_type": "code",
   "execution_count": 2,
   "id": "235c1eb0",
   "metadata": {},
   "outputs": [],
   "source": [
    "import sys\n",
    "import os\n",
    "sys.path.append('../..')\n",
    "from get_env import get_env\n",
    "\n",
    "api_key = get_env()\n"
   ]
  },
  {
   "cell_type": "code",
   "execution_count": 3,
   "id": "426fc5fc",
   "metadata": {},
   "outputs": [
    {
     "name": "stdout",
     "output_type": "stream",
     "text": [
      "설정 완료!\n"
     ]
    }
   ],
   "source": [
    "from langchain.memory import ConversationSummaryBufferMemory\n",
    "from langchain.chat_models import ChatOpenAI\n",
    "from langchain.schema.runnable import RunnablePassthrough\n",
    "from langchain.prompts import ChatPromptTemplate, MessagesPlaceholder\n",
    "from langchain.prompts.few_shot import FewShotChatMessagePromptTemplate\n",
    "\n",
    "# 모델 초기화\n",
    "llm = ChatOpenAI(temperature=0.1)\n",
    "\n",
    "# 메모리 초기화\n",
    "memory = ConversationSummaryBufferMemory(\n",
    "    llm=llm,\n",
    "    max_token_limit=120,\n",
    "    return_messages=True,\n",
    ")\n",
    "\n",
    "# 영화 이모티콘 예시들\n",
    "examples = [\n",
    "    {\n",
    "        \"movie\": \"탑건\",\n",
    "        \"emojis\": \"🛩️👨‍✈️🔥\"\n",
    "    },\n",
    "    {\n",
    "        \"movie\": \"대부\",\n",
    "        \"emojis\": \"👨‍👨‍👦🔫🍝\"\n",
    "    },\n",
    "    {\n",
    "        \"movie\": \"타이타닉\",\n",
    "        \"emojis\": \"🚢💔🌊\"\n",
    "    },\n",
    "    {\n",
    "        \"movie\": \"어벤져스\",\n",
    "        \"emojis\": \"🦸‍♂️⚡🛡️\"\n",
    "    },\n",
    "    {\n",
    "        \"movie\": \"라이온킹\",\n",
    "        \"emojis\": \"🦁👑🌅\"\n",
    "    }\n",
    "]\n",
    "\n",
    "# FewShotChatMessagePromptTemplate 설정\n",
    "example_prompt = ChatPromptTemplate.from_messages([\n",
    "    (\"human\", \"{movie}\"),\n",
    "    (\"ai\", \"{emojis}\")\n",
    "])\n",
    "\n",
    "few_shot_prompt = FewShotChatMessagePromptTemplate(\n",
    "    example_prompt=example_prompt,\n",
    "    examples=examples,\n",
    ")\n",
    "\n",
    "# 최종 프롬프트 템플릿\n",
    "final_prompt = ChatPromptTemplate.from_messages([\n",
    "    (\"system\", \"당신은 영화 제목을 받아서 그 영화를 나타내는 세 개의 이모티콘으로 응답하는 AI입니다. 항상 정확히 세 개의 이모티콘만 반환하세요.\"),\n",
    "    few_shot_prompt,\n",
    "    (\"human\", \"{movie}\")\n",
    "])\n",
    "\n",
    "print(\"설정 완료!\")\n"
   ]
  },
  {
   "cell_type": "code",
   "execution_count": 4,
   "id": "9eb8695a",
   "metadata": {},
   "outputs": [
    {
     "name": "stdout",
     "output_type": "stream",
     "text": [
      "LCEL 체인 구성 완료!\n"
     ]
    }
   ],
   "source": [
    "# 메모리와 함께 사용할 프롬프트 템플릿\n",
    "memory_prompt = ChatPromptTemplate.from_messages([\n",
    "    (\"system\", \"당신은 영화 제목을 받아서 그 영화를 나타내는 세 개의 이모티콘으로 응답하는 AI입니다. 항상 정확히 세 개의 이모티콘만 반환하세요.\"),\n",
    "    few_shot_prompt,\n",
    "    MessagesPlaceholder(variable_name=\"history\"),\n",
    "    (\"human\", \"{movie}\")\n",
    "])\n",
    "\n",
    "# 메모리 로드 함수\n",
    "def load_memory(_):\n",
    "    return memory.load_memory_variables({})[\"history\"]\n",
    "\n",
    "# LCEL 체인 구성\n",
    "chain = RunnablePassthrough.assign(history=load_memory) | memory_prompt | llm\n",
    "\n",
    "# 체인 실행 함수\n",
    "def invoke_movie_chain(movie_title):\n",
    "    result = chain.invoke({\"movie\": movie_title})\n",
    "    memory.save_context(\n",
    "        {\"input\": movie_title},\n",
    "        {\"output\": result.content},\n",
    "    )\n",
    "    print(f\"영화: {movie_title}\")\n",
    "    print(f\"이모티콘: {result.content}\")\n",
    "    print(\"-\" * 30)\n",
    "    return result.content\n",
    "\n",
    "print(\"LCEL 체인 구성 완료!\")\n"
   ]
  },
  {
   "cell_type": "code",
   "execution_count": 5,
   "id": "e98f04b0",
   "metadata": {},
   "outputs": [
    {
     "name": "stdout",
     "output_type": "stream",
     "text": [
      "영화: 인터스텔라\n",
      "이모티콘: 🚀⏳🌌\n",
      "------------------------------\n"
     ]
    },
    {
     "data": {
      "text/plain": [
       "'🚀⏳🌌'"
      ]
     },
     "execution_count": 5,
     "metadata": {},
     "output_type": "execute_result"
    }
   ],
   "source": [
    "# 첫 번째 영화 질문\n",
    "invoke_movie_chain(\"인터스텔라\")"
   ]
  },
  {
   "cell_type": "code",
   "execution_count": 6,
   "id": "4b45230d",
   "metadata": {},
   "outputs": [
    {
     "name": "stdout",
     "output_type": "stream",
     "text": [
      "영화: 해리포터\n",
      "이모티콘: ⚡🧙‍♂️🔮\n",
      "------------------------------\n"
     ]
    },
    {
     "data": {
      "text/plain": [
       "'⚡🧙\\u200d♂️🔮'"
      ]
     },
     "execution_count": 6,
     "metadata": {},
     "output_type": "execute_result"
    }
   ],
   "source": [
    "# 두 번째 영화 질문\n",
    "invoke_movie_chain(\"해리포터\")"
   ]
  },
  {
   "cell_type": "code",
   "execution_count": 7,
   "id": "fb754d1d",
   "metadata": {},
   "outputs": [
    {
     "name": "stdout",
     "output_type": "stream",
     "text": [
      "이전 질문 확인:\n",
      "당신이 이전에 질문한 영화는 '인터스텔라'와 '해리포터'입니다.\n"
     ]
    },
    {
     "data": {
      "text/plain": [
       "\"당신이 이전에 질문한 영화는 '인터스텔라'와 '해리포터'입니다.\""
      ]
     },
     "execution_count": 7,
     "metadata": {},
     "output_type": "execute_result"
    }
   ],
   "source": [
    "# 메모리 작동 확인 - 이전에 질문한 영화가 무엇인지 물어보기\n",
    "def ask_about_previous_movies():\n",
    "    question_prompt = ChatPromptTemplate.from_messages([\n",
    "        (\"system\", \"당신은 사용자가 이전에 질문한 영화들을 기억하고 있습니다. 사용자가 질문한 영화들을 알려주세요.\"),\n",
    "        MessagesPlaceholder(variable_name=\"history\"),\n",
    "        (\"human\", \"내가 이전에 질문한 영화들이 뭐였지?\")\n",
    "    ])\n",
    "    \n",
    "    question_chain = RunnablePassthrough.assign(history=load_memory) | question_prompt | llm\n",
    "    result = question_chain.invoke({})\n",
    "    print(\"이전 질문 확인:\")\n",
    "    print(result.content)\n",
    "    return result.content\n",
    "\n",
    "ask_about_previous_movies()\n"
   ]
  },
  {
   "cell_type": "code",
   "execution_count": null,
   "id": "6f240c79",
   "metadata": {},
   "outputs": [],
   "source": []
  }
 ],
 "metadata": {
  "kernelspec": {
   "display_name": "GPT",
   "language": "python",
   "name": "python3"
  },
  "language_info": {
   "codemirror_mode": {
    "name": "ipython",
    "version": 3
   },
   "file_extension": ".py",
   "mimetype": "text/x-python",
   "name": "python",
   "nbconvert_exporter": "python",
   "pygments_lexer": "ipython3",
   "version": "3.9.23"
  }
 },
 "nbformat": 4,
 "nbformat_minor": 5
}
